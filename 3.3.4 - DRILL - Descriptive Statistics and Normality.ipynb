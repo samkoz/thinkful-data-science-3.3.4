{
 "cells": [
  {
   "cell_type": "markdown",
   "metadata": {},
   "source": [
    "# Distributions"
   ]
  },
  {
   "cell_type": "code",
   "execution_count": 3,
   "metadata": {
    "collapsed": true
   },
   "outputs": [],
   "source": [
    "import numpy as np\n",
    "import pandas as pd\n",
    "import matplotlib.pyplot as plt\n",
    "%matplotlib inline "
   ]
  },
  {
   "cell_type": "markdown",
   "metadata": {},
   "source": [
    "### Normal Distribution "
   ]
  },
  {
   "cell_type": "code",
   "execution_count": 63,
   "metadata": {
    "collapsed": false,
    "scrolled": true
   },
   "outputs": [
    {
     "name": "stdout",
     "output_type": "stream",
     "text": [
      "Sample mean: -0.00913549576257\n",
      "Sample std: 1.00849376576\n"
     ]
    },
    {
     "data": {
      "image/png": "[encoded data removed]",
      "text/plain": [
       "<matplotlib.figure.Figure at 0x1f6e57d5da0>"
      ]
     },
     "metadata": {},
     "output_type": "display_data"
    }
   ],
   "source": [
    "normal_var = np.random.normal(loc=0, scale=1, size=1000)\n",
    "\n",
    "# I wanted standard bins across the histograms so I could compare them easily\n",
    "bins = np.linspace(-7, 7, 20)\n",
    "#did this so I could copy the code easily\n",
    "var = normal_var\n",
    "\n",
    "plt.hist(var, bins=bins, color='c', alpha=.5)\n",
    "mean = var.mean()\n",
    "std = var.std()\n",
    "print('Sample mean: ' + str(mean))\n",
    "print('Sample std: ' + str(std))\n",
    "plt.axvline(x=mean, linewidth=3)\n",
    "plt.axvline(x=mean-std, linewidth=2, linestyle=\"dashed\")\n",
    "plt.axvline(x=mean+std, linewidth=2, linestyle=\"dashed\")\n",
    "plt.show()"
   ]
  },
  {
   "cell_type": "markdown",
   "metadata": {},
   "source": [
    "### The Logistic Distribution\n",
    "The Logistic distribution is used in Extreme Value problems where it can act as a mixture of Gumbel distributions, in Epidemiology, and by the World Chess Federation (FIDE) where it is used in the Elo ranking system, assuming the performance of each player is a logistically distributed random variable.\n",
    "\n"
   ]
  },
  {
   "cell_type": "code",
   "execution_count": 64,
   "metadata": {
    "collapsed": false
   },
   "outputs": [
    {
     "name": "stdout",
     "output_type": "stream",
     "text": [
      "Sample mean: 0.018518724994\n",
      "Sample std: 1.77418161512\n"
     ]
    },
    {
     "data": {
      "image/png": "[encoded data removed]",
      "text/plain": [
       "<matplotlib.figure.Figure at 0x1f6e5876240>"
      ]
     },
     "metadata": {},
     "output_type": "display_data"
    }
   ],
   "source": [
    "logistic_var = np.random.logistic(loc=0.0, scale=1.0, size=1000)\n",
    "\n",
    "var = logistic_var\n",
    "\n",
    "plt.hist(var, bins=bins, color='c', alpha=.5)\n",
    "mean = var.mean()\n",
    "std = var.std()\n",
    "print('Sample mean: ' + str(mean))\n",
    "print('Sample std: ' + str(std))\n",
    "plt.axvline(x=mean, linewidth=3)\n",
    "plt.axvline(x=mean-std, linewidth=2, linestyle=\"dashed\")\n",
    "plt.axvline(x=mean+std, linewidth=2, linestyle=\"dashed\")\n",
    "plt.show()"
   ]
  },
  {
   "cell_type": "markdown",
   "metadata": {},
   "source": [
    "### Laplace Distribution\n",
    "The first law of Laplace, from 1774, states that the frequency of an error can be expressed as an exponential function of the absolute magnitude of the error, which leads to the Laplace distribution. For many problems in economics and health sciences, this distribution seems to model the data better than the standard Gaussian distribution.\n",
    "\n"
   ]
  },
  {
   "cell_type": "code",
   "execution_count": 67,
   "metadata": {
    "collapsed": false
   },
   "outputs": [
    {
     "name": "stdout",
     "output_type": "stream",
     "text": [
      "Sample mean: 0.0438655178653\n",
      "Sample std: 1.44838327287\n"
     ]
    },
    {
     "data": {
      "image/png": "[encoded data removed]",
      "text/plain": [
       "<matplotlib.figure.Figure at 0x1f6e44795f8>"
      ]
     },
     "metadata": {},
     "output_type": "display_data"
    }
   ],
   "source": [
    "laplace_var = np.random.laplace(size=1000)\n",
    "\n",
    "var = laplace_var\n",
    "\n",
    "plt.hist(var, bins=bins, color='c', alpha=.5)\n",
    "mean = var.mean()\n",
    "std = var.std()\n",
    "print('Sample mean: ' + str(mean))\n",
    "print('Sample std: ' + str(std))\n",
    "plt.axvline(x=mean, linewidth=3)\n",
    "plt.axvline(x=mean-std, linewidth=2, linestyle=\"dashed\")\n",
    "plt.axvline(x=mean+std, linewidth=2, linestyle=\"dashed\")\n",
    "plt.show()"
   ]
  },
  {
   "cell_type": "markdown",
   "metadata": {},
   "source": [
    "### Chi Square Distribution\n",
    "Dependent on the degrees of freedom (i.e. how many normally distributed independent random variables you are modeling)"
   ]
  },
  {
   "cell_type": "code",
   "execution_count": 88,
   "metadata": {
    "collapsed": false
   },
   "outputs": [
    {
     "name": "stdout",
     "output_type": "stream",
     "text": [
      "Sample mean: 0.970106091533\n",
      "Sample std: 1.35851958322\n",
      "Sample mean: 1.91834697709\n",
      "Sample std: 1.93298192291\n",
      "Sample mean: 3.01492330019\n",
      "Sample std: 2.34708220001\n",
      "Sample mean: 4.01373061669\n",
      "Sample std: 3.06072810548\n"
     ]
    },
    {
     "data": {
      "image/png": "[encoded data removed]",
      "text/plain": [
       "<matplotlib.figure.Figure at 0x1f6e58cad68>"
      ]
     },
     "metadata": {},
     "output_type": "display_data"
    }
   ],
   "source": [
    "chi_square_var1 = np.random.chisquare(df=1, size=1000)\n",
    "chi_square_var2 = np.random.chisquare(df=2, size=1000)\n",
    "chi_square_var3 = np.random.chisquare(df=3, size=1000)\n",
    "chi_square_var4 = np.random.chisquare(df=4, size=1000)\n",
    "\n",
    "colors = ['yellow', 'red', 'blue', 'orange']\n",
    "ind=0\n",
    "plt.figure(figsize=(10,10))\n",
    "for var in [chi_square_var1, chi_square_var2, chi_square_var3, chi_square_var4]:\n",
    "    plt.hist(var, bins=bins, color=colors[ind], alpha=.4)\n",
    "    mean = var.mean()\n",
    "    std = var.std()\n",
    "    print('Sample mean: ' + str(mean))\n",
    "    print('Sample std: ' + str(std))\n",
    "    plt.axvline(x=mean, linewidth=3, linestyle='dashed', color=colors[ind])\n",
    "#     plt.axvline(x=mean-std, linewidth=2, linestyle=\"dashed\", color=colors[ind])\n",
    "#     plt.axvline(x=mean+std, linewidth=2, linestyle=\"dashed\", color=colors[ind])\n",
    "    ind+=1\n",
    "plt.show()\n",
    "ind=0"
   ]
  },
  {
   "cell_type": "markdown",
   "metadata": {},
   "source": [
    "### Weibull Distribution\n",
    "The Weibull (or Type III asymptotic extreme value distribution for smallest values, SEV Type III, or Rosin-Rammler distribution) is one of a class of Generalized Extreme Value (GEV) distributions used in modeling extreme value problems. This class includes the Gumbel and Frechet distributions.\n"
   ]
  },
  {
   "cell_type": "code",
   "execution_count": 91,
   "metadata": {
    "collapsed": false
   },
   "outputs": [
    {
     "name": "stdout",
     "output_type": "stream",
     "text": [
      "Sample mean: 1.05778944481\n",
      "Sample std: 1.05660694348\n"
     ]
    },
    {
     "data": {
      "image/png": "[encoded data removed]",
      "text/plain": [
       "<matplotlib.figure.Figure at 0x1f6e574ae10>"
      ]
     },
     "metadata": {},
     "output_type": "display_data"
    }
   ],
   "source": [
    "weibull_var = np.random.weibull(a=1,size=1000)\n",
    "\n",
    "var = weibull_var\n",
    "\n",
    "plt.hist(var, bins=bins, color='c', alpha=.5)\n",
    "mean = var.mean()\n",
    "std = var.std()\n",
    "print('Sample mean: ' + str(mean))\n",
    "print('Sample std: ' + str(std))\n",
    "plt.axvline(x=mean, linewidth=3)\n",
    "plt.axvline(x=mean-std, linewidth=2, linestyle=\"dashed\")\n",
    "plt.axvline(x=mean+std, linewidth=2, linestyle=\"dashed\")\n",
    "plt.show()"
   ]
  },
  {
   "cell_type": "markdown",
   "metadata": {},
   "source": [
    "### Hypergeometric Distribution\n",
    "\n",
    "Consider an urn with black and white marbles in it, ngood of them black and nbad are white. If you draw nsample balls without replacement, then the hypergeometric distribution describes the distribution of black balls in the drawn sample.\n",
    "\n",
    "Note that this distribution is very similar to the binomial distribution, except that in this case, samples are drawn without replacement, whereas in the Binomial case samples are drawn with replacement (or the sample space is infinite). As the sample space becomes large, this distribution approaches the binomial."
   ]
  },
  {
   "cell_type": "code",
   "execution_count": 95,
   "metadata": {
    "collapsed": false
   },
   "outputs": [
    {
     "name": "stdout",
     "output_type": "stream",
     "text": [
      "Sample mean: 4.948\n",
      "Sample std: 1.1650304717\n"
     ]
    },
    {
     "data": {
      "image/png": "[encoded data removed]",
      "text/plain": [
       "<matplotlib.figure.Figure at 0x1f6e56d2ba8>"
      ]
     },
     "metadata": {},
     "output_type": "display_data"
    }
   ],
   "source": [
    "hypergeometric_var = np.random.hypergeometric(10, 10, 10, size=1000)\n",
    "\n",
    "var = hypergeometric_var\n",
    "\n",
    "plt.hist(var, bins=bins, color='c', alpha=.5)\n",
    "mean = var.mean()\n",
    "std = var.std()\n",
    "print('Sample mean: ' + str(mean))\n",
    "print('Sample std: ' + str(std))\n",
    "plt.axvline(x=mean, linewidth=3)\n",
    "plt.axvline(x=mean-std, linewidth=2, linestyle=\"dashed\")\n",
    "plt.axvline(x=mean+std, linewidth=2, linestyle=\"dashed\")\n",
    "plt.show()"
   ]
  },
  {
   "cell_type": "markdown",
   "metadata": {},
   "source": [
    "### Standard Gamma \n",
    "The Gamma distribution is often used to model the times to failure of electronic components, and arises naturally in processes for which the waiting times between Poisson distributed events are relevant."
   ]
  },
  {
   "cell_type": "code",
   "execution_count": 101,
   "metadata": {
    "collapsed": false,
    "scrolled": true
   },
   "outputs": [
    {
     "name": "stdout",
     "output_type": "stream",
     "text": [
      "Sample mean: 0.97514255769\n",
      "Sample std: 0.964760961102\n"
     ]
    },
    {
     "data": {
      "image/png": "[encoded data removed]",
      "text/plain": [
       "<matplotlib.figure.Figure at 0x1f6e58a9c18>"
      ]
     },
     "metadata": {},
     "output_type": "display_data"
    }
   ],
   "source": [
    "gamma_var = np.random.standard_gamma(shape=1, size=1000)\n",
    "var = gamma_var\n",
    "\n",
    "plt.hist(var, bins=bins, color='c', alpha=.5)\n",
    "mean = var.mean()\n",
    "std = var.std()\n",
    "print('Sample mean: ' + str(mean))\n",
    "print('Sample std: ' + str(std))\n",
    "plt.axvline(x=mean, linewidth=3)\n",
    "plt.axvline(x=mean-std, linewidth=2, linestyle=\"dashed\")\n",
    "plt.axvline(x=mean+std, linewidth=2, linestyle=\"dashed\")\n",
    "plt.show()"
   ]
  },
  {
   "cell_type": "markdown",
   "metadata": {},
   "source": [
    "### Summing Normal Variables"
   ]
  },
  {
   "cell_type": "code",
   "execution_count": 105,
   "metadata": {
    "collapsed": false
   },
   "outputs": [
    {
     "name": "stdout",
     "output_type": "stream",
     "text": [
      "Sample mean: 15.0152987941\n",
      "Sample std: 1.10087537109\n"
     ]
    },
    {
     "data": {
      "image/png": "[encoded data removed]",
      "text/plain": [
       "<matplotlib.figure.Figure at 0x1f6e58f4358>"
      ]
     },
     "metadata": {},
     "output_type": "display_data"
    }
   ],
   "source": [
    "var1 = np.random.normal(5, .5, 1000)\n",
    "var2 = np.random.normal(10, 1, 1000)\n",
    "\n",
    "var3 = var1 + var2\n",
    "var = var3\n",
    "\n",
    "plt.hist(var, color='c', alpha=.5)\n",
    "mean = var.mean()\n",
    "std = var.std()\n",
    "print('Sample mean: ' + str(mean))\n",
    "print('Sample std: ' + str(std))\n",
    "plt.axvline(x=mean, linewidth=3)\n",
    "plt.axvline(x=mean-std, linewidth=2, linestyle=\"dashed\")\n",
    "plt.axvline(x=mean+std, linewidth=2, linestyle=\"dashed\")\n",
    "plt.show()\n"
   ]
  },
  {
   "cell_type": "markdown",
   "metadata": {},
   "source": [
    "#### The mean is what I would expect, but the std did not sum. Perhaps that is because std is not calculated arithmetically like the mean. "
   ]
  },
  {
   "cell_type": "markdown",
   "metadata": {},
   "source": [
    "### Discussion\n",
    "* mean was not that useful for the chisquare, weibull distributions\n",
    "* it seems these have some skey in them, or the median != mean"
   ]
  }
 ],
 "metadata": {
  "kernelspec": {
   "display_name": "Python 3",
   "language": "python",
   "name": "python3"
  },
  "language_info": {
   "codemirror_mode": {
    "name": "ipython",
    "version": 3
   },
   "file_extension": ".py",
   "mimetype": "text/x-python",
   "name": "python",
   "nbconvert_exporter": "python",
   "pygments_lexer": "ipython3",
   "version": "3.6.0"
  }
 },
 "nbformat": 4,
 "nbformat_minor": 2
}
